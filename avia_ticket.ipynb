{
 "cells": [
  {
   "cell_type": "code",
   "execution_count": 2,
   "id": "1dbcf4ed",
   "metadata": {},
   "outputs": [],
   "source": [
    "import requests as rs\n",
    "import pandas as pd\n"
   ]
  },
  {
   "cell_type": "code",
   "execution_count": 13,
   "id": "470a4ae3",
   "metadata": {},
   "outputs": [],
   "source": [
    "headers = {'x-access-token': '167317b476e1808633c659a8bbb35b13'}\n",
    "\n",
    "url = \"https://api.travelpayouts.com/v2/prices/month-matrix\"\n",
    "\n",
    "querystring = {\"currency\":\"rub\",\n",
    "               \"show_to_affiliates\":\"true\",\n",
    "               \"origin\":\"IKT\",\n",
    "               \"destination\":\"HKT\",\n",
    "               'month': '2025-09-01'}\n",
    "\n",
    "response = rs.get(url, headers=headers, params=querystring)\n",
    "response_json = response.json()"
   ]
  },
  {
   "cell_type": "code",
   "execution_count": null,
   "id": "63ebf4cd",
   "metadata": {},
   "outputs": [],
   "source": []
  },
  {
   "cell_type": "code",
   "execution_count": null,
   "id": "9fdba510",
   "metadata": {},
   "outputs": [],
   "source": []
  }
 ],
 "metadata": {
  "kernelspec": {
   "display_name": "Python 3",
   "language": "python",
   "name": "python3"
  },
  "language_info": {
   "codemirror_mode": {
    "name": "ipython",
    "version": 3
   },
   "file_extension": ".py",
   "mimetype": "text/x-python",
   "name": "python",
   "nbconvert_exporter": "python",
   "pygments_lexer": "ipython3",
   "version": "3.13.2"
  }
 },
 "nbformat": 4,
 "nbformat_minor": 5
}
